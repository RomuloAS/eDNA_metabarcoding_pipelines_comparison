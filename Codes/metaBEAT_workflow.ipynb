{
 "cells": [
  {
   "cell_type": "code",
   "execution_count": null,
   "metadata": {},
   "outputs": [],
   "source": [
    "import os\n",
    "import glob\n",
    "import datetime"
   ]
  },
  {
   "cell_type": "code",
   "execution_count": null,
   "metadata": {},
   "outputs": [],
   "source": [
    "initial_time = datetime.datetime.now()\n",
    "\n",
    "os.chdir(\"/home/working/12S/\")\n",
    "os.getcwd()"
   ]
  },
  {
   "cell_type": "code",
   "execution_count": null,
   "metadata": {},
   "outputs": [],
   "source": [
    "!mkdir trimming"
   ]
  },
  {
   "cell_type": "code",
   "execution_count": null,
   "metadata": {},
   "outputs": [],
   "source": [
    "cd trimming"
   ]
  },
  {
   "cell_type": "code",
   "execution_count": null,
   "metadata": {},
   "outputs": [],
   "source": [
    "files = glob.glob(\"../../raw_reads/*.fastq.gz\")\n",
    "files = set([f.split(\"/\")[-1].split(\"_\")[0] for f in files])\n",
    "files = sorted(files)\n",
    "\n",
    "with open(\"Sample_accessions.tsv\", \"w\") as sample_accessions:\n",
    "    sample_accessions.write(\"SampleID\\n\" + \"\\n\".join(files)) "
   ]
  },
  {
   "cell_type": "code",
   "execution_count": null,
   "metadata": {},
   "outputs": [],
   "source": [
    "%%bash\n",
    "\n",
    "for a in $(cat Sample_accessions.tsv | grep \"SampleID\" -v)\n",
    "do\n",
    "    R1=$(ls -1 ../../raw_reads/$a* | grep \"_L001_R1_001.fastq\")\n",
    "    R2=$(ls -1 ../../raw_reads/$a* | grep \"_L001_R2_001.fastq\")\n",
    "\n",
    "    echo -e \"$a\\tfastq\\t$R1\\t$R2\\t18\\t18\"\n",
    "done > Querymap.txt"
   ]
  },
  {
   "cell_type": "code",
   "execution_count": null,
   "metadata": {},
   "outputs": [],
   "source": [
    "%%bash\n",
    "\n",
    "metaBEAT_global.py \\\n",
    "-Q Querymap.txt \\\n",
    "--trim_qual 20 \\\n",
    "--trim_minlength 90 \\\n",
    "--merge \\\n",
    "--product_length 106 \\\n",
    "--read_crop 110 \\\n",
    "--forward_only \\\n",
    "--length_filter 106 \\\n",
    "--length_deviation 0.2 \\\n",
    "-m 12S -n 10 -v \\\n",
    "-@ your_email@gmail.com &> log_trim"
   ]
  },
  {
   "cell_type": "code",
   "execution_count": null,
   "metadata": {},
   "outputs": [],
   "source": [
    "cd ../"
   ]
  },
  {
   "cell_type": "code",
   "execution_count": null,
   "metadata": {},
   "outputs": [],
   "source": [
    "!mkdir chimera_detection"
   ]
  },
  {
   "cell_type": "code",
   "execution_count": null,
   "metadata": {},
   "outputs": [],
   "source": [
    "cd chimera_detection"
   ]
  },
  {
   "cell_type": "code",
   "execution_count": null,
   "metadata": {},
   "outputs": [],
   "source": [
    "%%bash\n",
    "\n",
    "#Write REFmap\n",
    "for file in $(ls -1 ../../supplementary_data/reference_DBs/* | grep \"reference_database.gb$\")\n",
    "do\n",
    "      echo -e \"$file\\tgb\"\n",
    "done >> REFmap.txt"
   ]
  },
  {
   "cell_type": "code",
   "execution_count": null,
   "metadata": {},
   "outputs": [],
   "source": [
    "%%bash\n",
    "\n",
    "metaBEAT_global.py \\\n",
    "-R REFmap.txt \\\n",
    "-f \\\n",
    "-@ your_email@gmail.com"
   ]
  },
  {
   "cell_type": "code",
   "execution_count": null,
   "metadata": {},
   "outputs": [],
   "source": [
    "%%bash\n",
    "\n",
    "\n",
    "for a in $(cut -f 1 ../trimming/Querymap.txt)\n",
    "do\n",
    "    if [ -s ../trimming/$a/$a\\_trimmed.fasta ]\n",
    "    then\n",
    "        echo -e \"\\n### Detecting chimeras in $a ###\\n\"\n",
    "        mkdir $a\n",
    "        cd $a\n",
    "        vsearch --uchime_ref ../../trimming/$a/$a\\_trimmed.fasta --db ../refs.fasta \\\n",
    "        --nonchimeras $a-nonchimeras.fasta --chimeras $a-chimeras.fasta &> log\n",
    "        cd ..\n",
    "\n",
    "    else\n",
    "        echo -e \"$a is empty\"\n",
    "    fi\n",
    "done\n",
    "\n",
    "\n"
   ]
  },
  {
   "cell_type": "code",
   "execution_count": null,
   "metadata": {},
   "outputs": [],
   "source": [
    "cd .."
   ]
  },
  {
   "cell_type": "code",
   "execution_count": null,
   "metadata": {},
   "outputs": [],
   "source": [
    "!mkdir non-chimeras"
   ]
  },
  {
   "cell_type": "code",
   "execution_count": null,
   "metadata": {},
   "outputs": [],
   "source": [
    "cd non-chimeras/"
   ]
  },
  {
   "cell_type": "code",
   "execution_count": null,
   "metadata": {},
   "outputs": [],
   "source": [
    "%%bash\n",
    "\n",
    "#Write REFmap\n",
    "for file in $(ls -1 ../../supplementary_data/reference_DBs/* | grep \"reference_database.gb$\")\n",
    "do\n",
    "      echo -e \"$file\\tgb\"\n",
    "done >> REFmap.txt"
   ]
  },
  {
   "cell_type": "code",
   "execution_count": null,
   "metadata": {},
   "outputs": [],
   "source": [
    "%%bash\n",
    "\n",
    "#Querymap\n",
    "for a in $(ls -l ../chimera_detection/ | grep \"^d\" | perl -ne 'chomp; @a=split(\" \"); print \"$a[-1]\\n\"')\n",
    "do\n",
    "   if [ \"$a\" != \"GLOBAL\" ]\n",
    "   then\n",
    "      echo -e \"$a-nc\\tfasta\\t../chimera_detection/$a/$a-nonchimeras.fasta\"\n",
    "   fi\n",
    "done > Querymap.txt"
   ]
  },
  {
   "cell_type": "code",
   "execution_count": null,
   "metadata": {},
   "outputs": [],
   "source": [
    "%%bash\n",
    "\n",
    "metaBEAT_global.py \\\n",
    "-Q Querymap.txt \\\n",
    "-R REFmap.txt \\\n",
    "--blast --min_ident 1 --min_ali_length 0.85 \\\n",
    "--cluster --clust_match 1 --clust_cov 3 \\\n",
    "-m 12S -n 10 \\\n",
    "-E -v \\\n",
    "-@ your_email@gmail.com \\\n",
    "-o metaBEAT_1.0 &> log_assignment"
   ]
  },
  {
   "cell_type": "code",
   "execution_count": null,
   "metadata": {},
   "outputs": [],
   "source": [
    "final_time = datetime.datetime.now()\n",
    "total_time = final_time - initial_time\n",
    "\n",
    "with open(\"Time.txt\", \"w\") as total_time_file:\n",
    "    total_time_file.write(\"Total time to run the pipeline: {TOTAL_TIME}\\n\".format(\n",
    "                                TOTAL_TIME=total_time))"
   ]
  }
 ],
 "metadata": {
  "kernelspec": {
   "display_name": "Python 3",
   "language": "python",
   "name": "python3"
  },
  "language_info": {
   "codemirror_mode": {
    "name": "ipython",
    "version": 3
   },
   "file_extension": ".py",
   "mimetype": "text/x-python",
   "name": "python",
   "nbconvert_exporter": "python",
   "pygments_lexer": "ipython3",
   "version": "3.8.3"
  }
 },
 "nbformat": 4,
 "nbformat_minor": 1
}
